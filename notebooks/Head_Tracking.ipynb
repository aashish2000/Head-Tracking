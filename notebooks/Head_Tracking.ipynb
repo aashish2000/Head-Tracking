{
  "nbformat": 4,
  "nbformat_minor": 0,
  "metadata": {
    "accelerator": "GPU",
    "colab": {
      "name": "Head-Tracking.ipynb",
      "provenance": [],
      "include_colab_link": true
    },
    "kernelspec": {
      "display_name": "Python 3",
      "name": "python3"
    }
  },
  "cells": [
    {
      "cell_type": "markdown",
      "metadata": {
        "id": "view-in-github",
        "colab_type": "text"
      },
      "source": [
        "<a href=\"https://colab.research.google.com/github/aashish2000/Head-Tracking/blob/main/notebooks/Head_Tracking.ipynb\" target=\"_parent\"><img src=\"https://colab.research.google.com/assets/colab-badge.svg\" alt=\"Open In Colab\"/></a>"
      ]
    },
    {
      "cell_type": "code",
      "metadata": {
        "id": "lEjE185KfeFX"
      },
      "source": [
        "!pip uninstall -y tensorflow\n",
        "!pip uninstall -y tensorflow-gpu\n",
        "!pip uninstall -y keras\n",
        "!pip install tensorflow-gpu==1.14.0\n",
        "!pip install keras==2.2.4\n",
        "!pip install imutils\n",
        "!pip install fastapi[all]\n",
        "!pip install jinja2\n",
        "!pip install nest-asyncio pyngrok uvicorn"
      ],
      "execution_count": null,
      "outputs": []
    },
    {
      "cell_type": "code",
      "metadata": {
        "id": "yCBiwaekfHnJ"
      },
      "source": [
        "import os\n",
        "!git clone \"https://github.com/aashish2000/Head-Tracking.git\"\n",
        "os.chdir(\"./Head-Tracking\")"
      ],
      "execution_count": null,
      "outputs": []
    },
    {
      "cell_type": "code",
      "metadata": {
        "id": "69qYONztqH2n"
      },
      "source": [
        "!python main.py"
      ],
      "execution_count": null,
      "outputs": []
    }
  ]
}